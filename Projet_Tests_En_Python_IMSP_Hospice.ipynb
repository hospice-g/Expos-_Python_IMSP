{
 "cells": [
  {
   "cell_type": "markdown",
   "id": "2a1ca349",
   "metadata": {},
   "source": [
    "# <center> <b> <h3 style=\"color:orange;\"> Les Tests en Python </h3> </b></center>\n",
    " \n",
    "# <center> <b> <span style=\"color:purple;\"> Présenté par J. Hospice GUIDIHONME </span> </b></center>\n",
    "<p>\n",
    "<img src=\"testPython.jpeg\" alt=\"Test en Python\"/>\n",
    "</p>\n",
    "\n",
    " # <b> <span style=\" color:blue;\"> I. Définition</span> </b> <br>\n",
    " <p style=\"font-size:18px;\">Les tests en Python sont des sujets énormes et peuvent être très complexes, mais cela n'a pas besoin d'être difficile. vous pouvez commencer à créer des tests simples pour nvotre application en quelques étapes simples, puis vous en servir à partir de là.<br><br>\n",
    "Dans cet exposé, nous apprendrons à créer un test de base, à l'exécuter et à trouver les bogues avant que nos utilisateurs ne le fassent ! Nous découvrirons les outils disponibles pour écrire et exécuter des tests, vérifier les performances de notre application et même rechercher des problèmes de sécurité.<br><br>\n",
    "Il existe de nombreuses façons de tester votre code:</p> <br><br>\n",
    "\n",
    "# <b> <span style=\" color:blue;\">II. Tests automatisés ou manuels </span> </b> <br>\n",
    "<p style=\"font-size:18px;\">La bonne nouvelle est que vous avez probablement déjà créé un test sans vous en rendre compte. Vous vous souvenez quand vous avez exécuté votre application et l'avez utilisée pour la première fois ? Avez-vous vérifié les fonctionnalités et expérimenté leur utilisation ? C'est ce qu'on appelle les tests exploratoires et c'est une forme de test manuel.<br><br>\n",
    "Les tests exploratoires sont une forme de test qui se fait sans plan. Dans un test exploratoire, vous explorez simplement l'application.<br><br>\n",
    "Pour disposer d'un ensemble complet de tests manuels, il vous suffit de dresser une liste de toutes les fonctionnalités de votre application, des différents types d'entrées qu'elle peut accepter et des résultats attendus. Désormais, chaque fois que vous modifiez votre code, vous devez parcourir chaque élément de cette liste et le vérifier.<br><br>\n",
    "Cela n'a pas l'air très amusant, n'est-ce pas ?<br><br>\n",
    "C'est là qu'interviennent les tests automatisés. Les tests automatisés sont l'exécution de votre plan de test (les parties de votre application que vous souhaitez tester, l'ordre dans lequel vous souhaitez les tester et les réponses attendues) par un script au lieu d'un humain. <span style=\" color:purple;font-size:18px;\"> Python</span> a déjà fourni avec un ensemble d'outils et de bibliothèques pour vous aider à créer des tests <span style=\" color:purple;font-size:18px;\"> automatisés </span> pour votre application. Nous allons explorer ces outils et bibliothèques dans cet exposé.</p><br>\n",
    "\n",
    "# <b> <span style=\" color:blue;\">III. Tests unitaires vs. tests d'intégration </span> </b> <br>\n",
    "<p style=\"font-size:18px;\">Le monde des tests ne manque pas de terminologie, et maintenant que vous connaissez la différence entre les tests automatisés et manuels, il est temps d'aller plus loin.<br>Pensez à la façon dont vous pourriez tester les lumières sur une voiture. Vous allumez les lumières (appelée étape de test ) et sortez de la voiture ou demandez à un ami de vérifier que les lumières sont allumées (<span style=\" color:purple;font-size:18px;\"> appelée assertion de test</span>  ). Le test de plusieurs composants est appelé <span style=\" color:purple;font-size:18px;\"> test d'intégration</span>. <br><br>Pensez à toutes les choses qui doivent fonctionner correctement pour qu'une tâche simple donne le bon résultat. Ces composants sont comme les parties de votre application, toutes ces classes, fonctions et modules que vous avez écrits.<br><br>\n",
    "Un défi majeur avec les tests d'intégration est lorsqu'un test d'intégration ne donne pas le bon résultat. Il est très difficile de diagnostiquer le problème sans pouvoir isoler quelle partie du système est défaillante. Si les lumières ne se sont pas allumées, alors peut-être que les ampoules sont cassées. La batterie est-elle morte ? Et l'alternateur ? L'ordinateur de la voiture tombe en panne ?<br><br>\n",
    "Si vous avez une voiture moderne et sophistiquée, elle vous dira quand vos ampoules seront éteintes. Il le fait en utilisant une forme de <span style=\" color:purple;font-size:18px;\"> test unitaire</span>.<br><br>Un test unitaire est un test plus petit, qui vérifie qu'un seul composant fonctionne correctement. Un test unitaire vous aide à isoler ce qui ne fonctionne pas dans votre application et à le réparer plus rapidement.<br><br>\n",
    "Vous venez de voir deux types de tests : <br><br><p>\n",
    " <ul>\n",
    "     <li style=\"font-size:18px;\">\n",
    "    Un <span style=\" color:purple;font-size:18px;\"> test d'intégration</span> vérifie que les composants de votre application fonctionnent les uns avec les    autres.\n",
    "     </li><br>\n",
    "     <li style=\"font-size:18px;\">\n",
    "         Un <span style=\" color:purple;font-size:18px;\"> test unitaire</span> vérifie un petit composant de votre application.\n",
    "     </li>\n",
    "</ul>\n",
    "</p>\n",
    "<p style=\"font-size:18px;\"> Vous pouvez écrire à la fois des tests d'intégration et des tests unitaires en Python. Pour écrire un test unitaire pour la fonction intégrée <span style=\" color:purple;font-size:18px;\"> sum()</span> , vous devez vérifier la sortie de <span style=\" color:purple;font-size:18px;\"> sum()</span> par rapport à une sortie connue.<br><br>\n",
    "Par exemple, voici comment vérifier que le <span style=\" color:purple;font-size:18px;\"> sum()</span>  des nombres <span style=\" color:purple;font-size:18px;\">(1,8,9,7) </span> est égal à <span style=\" color:purple;font-size:18px;\"> 25</span>:</p>\n",
    "</p> "
   ]
  },
  {
   "cell_type": "code",
   "execution_count": 14,
   "id": "d51caea8",
   "metadata": {},
   "outputs": [
    {
     "ename": "AssertionError",
     "evalue": "la somme de 1, 8, 9, 7 devrait donner 25",
     "output_type": "error",
     "traceback": [
      "\u001b[0;31m---------------------------------------------------------------------------\u001b[0m",
      "\u001b[0;31mAssertionError\u001b[0m                            Traceback (most recent call last)",
      "\u001b[0;32m<ipython-input-14-a6e7cb97ab7a>\u001b[0m in \u001b[0;36m<module>\u001b[0;34m\u001b[0m\n\u001b[1;32m      1\u001b[0m \u001b[0;31m#Exemple1\u001b[0m\u001b[0;34m\u001b[0m\u001b[0;34m\u001b[0m\u001b[0;34m\u001b[0m\u001b[0m\n\u001b[0;32m----> 2\u001b[0;31m \u001b[0;32massert\u001b[0m \u001b[0msum\u001b[0m\u001b[0;34m(\u001b[0m\u001b[0;34m[\u001b[0m\u001b[0;36m1\u001b[0m\u001b[0;34m,\u001b[0m \u001b[0;36m8\u001b[0m\u001b[0;34m,\u001b[0m \u001b[0;36m9\u001b[0m\u001b[0;34m,\u001b[0m \u001b[0;36m7\u001b[0m\u001b[0;34m]\u001b[0m\u001b[0;34m)\u001b[0m \u001b[0;34m==\u001b[0m \u001b[0;36m20\u001b[0m\u001b[0;34m,\u001b[0m \u001b[0;34m\"la somme de 1, 8, 9, 7 devrait donner 25\"\u001b[0m\u001b[0;34m\u001b[0m\u001b[0;34m\u001b[0m\u001b[0m\n\u001b[0m",
      "\u001b[0;31mAssertionError\u001b[0m: la somme de 1, 8, 9, 7 devrait donner 25"
     ]
    }
   ],
   "source": [
    "#Exemple1\n",
    "assert sum([1, 8, 9, 7]) == 20, \"la somme de 1, 8, 9, 7 devrait donner 25\""
   ]
  },
  {
   "cell_type": "markdown",
   "id": "72cb09cc",
   "metadata": {},
   "source": [
    "<p style=\"font-size:18px;\"> Cela ne produira rien sur le REPL car les valeurs sont correctes.<br><br>\n",
    "Si le résultat de <span style=\" color:purple;font-size:18px;\"> sum()</span> est incorrect, cela échouera avec un <span style=\" color:purple;font-size:18px;\"> AssertionErroret</span>:</p> le message <span style=\" color:purple;font-size:18px;\"> \"la somme de 1, 8, 9, 7 devrait donner 25\"</span>.<br> On essaye à nouveau une déclaration d'assertion avec les mauvaises valeurs pour voir un <span style=\" color:purple;font-size:18px;\"> AssertionError:</span>\n",
    "</p> "
   ]
  },
  {
   "cell_type": "code",
   "execution_count": 4,
   "id": "be991d54",
   "metadata": {},
   "outputs": [
    {
     "ename": "AssertionError",
     "evalue": "la somme de 1, 8, 9, 7 devrait donner 25",
     "output_type": "error",
     "traceback": [
      "\u001b[0;31m---------------------------------------------------------------------------\u001b[0m",
      "\u001b[0;31mAssertionError\u001b[0m                            Traceback (most recent call last)",
      "\u001b[0;32m<ipython-input-4-327fd9cc93e0>\u001b[0m in \u001b[0;36m<module>\u001b[0;34m\u001b[0m\n\u001b[1;32m      1\u001b[0m \u001b[0;31m#Exemple2\u001b[0m\u001b[0;34m\u001b[0m\u001b[0;34m\u001b[0m\u001b[0;34m\u001b[0m\u001b[0m\n\u001b[0;32m----> 2\u001b[0;31m \u001b[0;32massert\u001b[0m \u001b[0msum\u001b[0m\u001b[0;34m(\u001b[0m\u001b[0;34m[\u001b[0m\u001b[0;36m1\u001b[0m\u001b[0;34m,\u001b[0m \u001b[0;36m8\u001b[0m\u001b[0;34m,\u001b[0m \u001b[0;36m9\u001b[0m\u001b[0;34m,\u001b[0m \u001b[0;36m7\u001b[0m\u001b[0;34m]\u001b[0m\u001b[0;34m)\u001b[0m \u001b[0;34m==\u001b[0m \u001b[0;36m20\u001b[0m\u001b[0;34m,\u001b[0m \u001b[0;34m\"la somme de 1, 8, 9, 7 devrait donner 25\"\u001b[0m\u001b[0;34m\u001b[0m\u001b[0;34m\u001b[0m\u001b[0m\n\u001b[0m",
      "\u001b[0;31mAssertionError\u001b[0m: la somme de 1, 8, 9, 7 devrait donner 25"
     ]
    }
   ],
   "source": [
    "#Exemple2\n",
    "assert sum([1, 8, 9, 7]) == 20, \"la somme de 1, 8, 9, 7 devrait donner 25\""
   ]
  },
  {
   "cell_type": "markdown",
   "id": "fcac1e15",
   "metadata": {},
   "source": [
    "<p style=\"font-size:18px;\"> Dans le REPL, vous voyez le levé <span style=\" color:purple;font-size:18px;\"> AssertionError </span> car le résultat de <span style=\" color:purple;font-size:18px;\">sum() </span> ne correspond pas à 6.<br><br>\n",
    "Au lieu de tester sur le <span style=\" color:purple;font-size:18px;\"> REPL</span>, vous pouvez le mettre dans un nouveau fichier Python appelé par exemple <span style=\" color:purple;font-size:18px;\"> test_sum.py</span> et l'exécuter.\n",
    "</p> "
   ]
  },
  {
   "cell_type": "code",
   "execution_count": null,
   "id": "84bb7b90",
   "metadata": {},
   "outputs": [],
   "source": [
    "#exmple3\n",
    "\n",
    "# on met tout ce code dans le fichier test_sum.py\n",
    "\n",
    "def test_sum():\n",
    "    assert sum([1, 2, 3]) == 6, \"la somme de 1, 2, 3 devrait donner 6\"\n",
    "\n",
    "if __name__ == \"__main__\":\n",
    "    test_sum()\n",
    "    print(\"Tout est correct\")"
   ]
  },
  {
   "cell_type": "markdown",
   "id": "9ce25861",
   "metadata": {},
   "source": [
    "<p style=\"font-size:18px;\"> Vous avez maintenant écrit un scénario de test , une assertion et un point d'entrée (la ligne de commande). Vous pouvez maintenant exécuter ceci sur la ligne de commande :</p>"
   ]
  },
  {
   "cell_type": "code",
   "execution_count": 5,
   "id": "9f88bb75",
   "metadata": {},
   "outputs": [],
   "source": [
    "#pour l'execution\n",
    "python test_sum.py"
   ]
  },
  {
   "cell_type": "markdown",
   "id": "6ca3210f",
   "metadata": {},
   "source": [
    "<p style=\"font-size:18px;\"> Vous avez maintenant écrit un scénario de test , une assertion et un point d'entrée (la ligne de commande). Vous pouvez maintenant exécuter ceci sur la ligne de commande : <br><br>\n",
    "# python3 test_sum.py <br><br>\n",
    " Vous pouvez voir le résultat réussi, <span style=\" color:purple;font-size:18px;\"> Tout est correct.</span>\n",
    "</p>"
   ]
  },
  {
   "cell_type": "markdown",
   "id": "bffab03c",
   "metadata": {},
   "source": [
    "<p style=\"font-size:18px;\"> En Python, sum() accepte tout itérable comme premier argument. Vous avez testé avec une liste. Maintenant, testez également avec un tuple. on peut aussi créer un nouveau fichier appelé test_sum_2.py avec le code suivant et le tes:\n",
    "</p>"
   ]
  },
  {
   "cell_type": "code",
   "execution_count": null,
   "id": "be22c09e",
   "metadata": {},
   "outputs": [],
   "source": [
    "#exmple4\n",
    "\n",
    "# on met tout ce code dans le fichier test_sum_2.py\n",
    "\n",
    "def test_sum():\n",
    "    assert sum([1, 2, 3]) == 6, \"la somme de 1, 2, 3 devrait donner 6\"\n",
    "\n",
    "\n",
    "def test_sum_tuple():\n",
    "    assert sum((1, 2, 3)) == 7, \"la somme de 1, 2, 3 devrait donner 6\"\n",
    "\n",
    "if __name__ == \"__main__\":\n",
    "    test_sum()\n",
    "    test_sum_tuple()\n",
    "    print(\"Everything passed\")"
   ]
  },
  {
   "cell_type": "markdown",
   "id": "55e004f2",
   "metadata": {},
   "source": [
    "<p style=\"font-size:18px;\"> Lorsque vous exécutez test_sum_2.py, le script génère une erreur car le sum() de (1, 2, 2) est 6, et non 7. Le résultat du script vous donne le message d'erreur, la ligne de code et le traceback : \n",
    "</p>"
   ]
  },
  {
   "cell_type": "code",
   "execution_count": null,
   "id": "ff621917",
   "metadata": {},
   "outputs": [],
   "source": [
    "$ python test_sum_2.py\n",
    "\n",
    "Traceback (most recent call last):\n",
    "  File \"test_sum_2.py\", line 10, in <module>\n",
    "    test_sum_tuple()\n",
    "  File \"test_sum_2.py\", line 6, in test_sum_tuple\n",
    "    assert sum((1, 2, 3)) == 7, \"la somme de 1, 2, 3 devrait donner 6\"\n",
    "AssertionError: la somme de 1, 2, 3 devrait donner 6\n"
   ]
  },
  {
   "cell_type": "markdown",
   "id": "8dc20abf",
   "metadata": {},
   "source": [
    "<p style=\"font-size:18px;\">Ici, vous pouvez voir comment une erreur dans votre code génère une erreur sur la console avec des informations sur l'emplacement de l'erreur et le résultat attendu.<br><br>\n",
    "Écrire des tests de cette manière est acceptable pour une simple vérification, mais que se passe-t-il si plusieurs échouent ? C'est là qu'interviennent les <span style=\" color:purple;font-size:18px;\"> lanceurs de tests.</span>. Le lanceur de tests est une application spéciale conçue pour exécuter des tests, vérifier la sortie et vous donner des outils pour déboguer et diagnostiquer des tests et des applications.\n",
    "</p>"
   ]
  },
  {
   "cell_type": "markdown",
   "id": "f2e7de43",
   "metadata": {},
   "source": [
    "# <b> <span style=\" color:blue;\">IV. Choisir un lanceur de test </span> </b> <br>\n",
    "\n",
    "<p style=\"font-size:18px;\">Il existe de nombreux exécuteurs de test disponibles pour Python. Celui intégré à la bibliothèque standard Python s'appelle unittest. Dans ce didacticiel, nous utiliserons <span style=\" color:purple;font-size:18px;\"> unittest</span> des cas de test et le <span style=\" color:purple;font-size:18px;\"> unittest</span>  lanceur de test. Les principes de unittest sont facilement transférables à d'autres frameworks. Les trois lanceurs de test les plus populaires sont :\n",
    "     <ul>\n",
    "     <li style=\"font-size:18px;\">\n",
    "    <span style=\" color:purple;font-size:18px;\"> unittest</span> \n",
    "     </li><br>\n",
    "     <li style=\"font-size:18px;\">\n",
    "         <span style=\" color:purple;font-size:18px;\"> nose ou alors nose2</span>\n",
    "     </li><br>\n",
    "         <li style=\"font-size:18px;\">\n",
    "         <span style=\" color:purple;font-size:18px;\"> pytest</span>\n",
    "     </li>\n",
    "</ul>\n",
    "</p>\n",
    "<p style=\"font-size:18px;\">Il est important de choisir le meilleur lanceur de test pour vos besoins et votre niveau d'expérience.</p>\n"
   ]
  },
  {
   "cell_type": "markdown",
   "id": "c9b7af00",
   "metadata": {},
   "source": [
    "# <b> <span style=\" color:blue;\">a. unittest</span> </b> \n",
    "\n",
    "<p style=\"font-size:18px;\">unittest a été intégré à la bibliothèque standard Python depuis la version 2.1. Vous le verrez probablement dans les applications Python commerciales et les projets open source.<br><br>\n",
    "unittestcontient à la fois un framework de test et un lanceur de test. unittest a des exigences importantes pour l'écriture et l'exécution des tests.<br><br>\n",
    "unittest exige que :<br>\n",
    "<ul>\n",
    "     <li style=\"font-size:18px;\">\n",
    "    <span style=\" color:purple;font-size:18px;\"> Vous mettez vos tests dans des classes en tant que méthodes</span> \n",
    "    </li><br>\n",
    "     <li style=\"font-size:18px;\">\n",
    "     <span style=\" color:purple;font-size:18px;\"> Vous utilisez une série de méthodes d'assertion spéciales dans la unittest.TestCaseclasse au lieu de l' assert instruction intégrée</span>\n",
    "     </li><br>\n",
    "</ul>\n",
    "</p>\n",
    "<p style=\"font-size:18px;\">Pour convertir l'exemple précédent en cas de unittesttest, vous devez :<br>\n",
    "<ol>\n",
    "     <li style=\"font-size:18px;\">Importer unittest depuis la bibliothèque standard\n",
    "    </li><br>\n",
    "     <li style=\"font-size:18px;\">Créer une classe appelée TestSum qui hérite de la TestCaseclasse\n",
    "     </li><br>\n",
    "    <li style=\"font-size:18px;\">Convertissez les fonctions de test en méthodes en ajoutant selfcomme premier argument\n",
    "     </li><br>\n",
    "     <li style=\"font-size:18px;\">Changer les assertions pour utiliser la self.assertEqual() méthode sur la TestCaseclasse\n",
    "     </li><br>\n",
    "    <li style=\"font-size:18px;\">Changer le point d'entrée de la ligne de commande à appeler unittest.main()\n",
    "     </li><br>\n",
    "</ol></p><br><br>\n",
    "\n",
    "<p style=\"font-size:18px;\">Suivez ces étapes en créant un nouveau fichier test_sum_unittest.pyavec le code suivant </p>\n"
   ]
  },
  {
   "cell_type": "code",
   "execution_count": null,
   "id": "c1839177",
   "metadata": {},
   "outputs": [],
   "source": [
    "# on met tout ce code dans un fichier test_sum_unittest.py\n",
    "import unittest\n",
    "\n",
    "\n",
    "class TestSum(unittest.TestCase):\n",
    "\n",
    "    def test_sum(self):\n",
    "        self.assertEqual(sum([1, 2, 3]), 6, \"la somme de 1, 2, 3 devrait donner 6\")\n",
    "\n",
    "    def test_sum_tuple(self):\n",
    "        self.assertEqual(sum((1, 2, 2)), 6, \"la somme de 1, 2, 3 devrait donner 6\")\n",
    "\n",
    "if __name__ == '__main__':\n",
    "    unittest.main()"
   ]
  },
  {
   "cell_type": "markdown",
   "id": "c041849c",
   "metadata": {},
   "source": [
    "<p style=\"font-size:18px;\">Si vous exécutez ceci sur la ligne de commande, vous verrez un succès (indiqué par <span style=\" color:purple;font-size:18px;\">.</span>) et un échec (indiqué par <span style=\" color:purple;font-size:18px;\">F</span>):\n",
    "</p>"
   ]
  },
  {
   "cell_type": "code",
   "execution_count": null,
   "id": "1b721eab",
   "metadata": {},
   "outputs": [],
   "source": [
    ".F\n",
    "======================================================================\n",
    "FAIL: test_sum_tuple (__main__.TestSum)\n",
    "----------------------------------------------------------------------\n",
    "Traceback (most recent call last):\n",
    "  File \"test_sum_unittest.py\", line 10, in test_sum_tuple\n",
    "    self.assertEqual(sum((1, 2, 2)), 6, \"Sla somme de 1, 2, 3 devrait donner 6\")\n",
    "AssertionError: 5 != 6 : la somme de 1, 2, 3 devrait donner 6\n",
    "\n",
    "----------------------------------------------------------------------\n",
    "Ran 2 tests in 0.000s\n",
    "\n",
    "FAILED (failures=1)\n"
   ]
  },
  {
   "cell_type": "markdown",
   "id": "32aa996b",
   "metadata": {},
   "source": [
    "<p style=\"font-size:18px;\">Vous venez d'exécuter deux tests à l'aide du unittest lanceur de tests.\n",
    "<p style=\"font-size:18px;\"><span style=\" color:purple;font-size:18px;\">Remarque</span>: soyez prudent si vous écrivez des cas de test qui doivent s'exécuter à la fois dans <span style=\" color:purple;font-size:18px;\">Python 2 et 3</span>. Dans <span style=\" color:purple;font-size:18px;\">Python 2 et 3</span> et versions antérieures, <span style=\" color:purple;font-size:18px;\">unittest</span> est appelé <span style=\" color:purple;font-size:18px;\">unittest2</span>. Si vous importez simplement depuis <span style=\" color:purple;font-size:18px;\">unittest</span>, vous obtiendrez différentes versions avec des fonctionnalités différentes entre <span style=\" color:purple;font-size:18px;\">Python 2 et 3</span>.</p><br>\n",
    "        <p style=\"font-size:18px;\">Pour plus d'informations sur <span style=\" color:purple;font-size:18px;\">unittest</span> vous pouvez explorer <a href=\"https://docs.python.org/3/library/unittest.html\"> la documentation unittest</a> </p><br>\n",
    "\n",
    "</p>"
   ]
  },
  {
   "cell_type": "markdown",
   "id": "f42eebbc",
   "metadata": {},
   "source": [
    "# <b> <span style=\" color:blue;\">b. nose</span> </b> \n",
    "\n",
    "<p style=\"font-size:18px;\">Vous constaterez peut-être qu'au fil du temps, alors que vous écrivez des centaines, voire des milliers de tests pour votre application, il devient de plus en plus difficile de comprendre et d'utiliser la sortie de  <span style=\" color:purple;font-size:18px;\">unittest</span>.<br><br>\n",
    " <span style=\" color:purple;font-size:18px;\">nose</span> est compatible avec tous les tests écrits à l'aide du unittest framework et peut être utilisé en remplacement du unittest lanceur de test. Le développement: nose est une application open source qui a pris du retard et un fork appelé <span style=\" color:purple;font-size:18px;\">nose2</span> a été créé. Si vous partez de zéro, il est recommandé d'utiliser à la place de nose <span style=\" color:purple;font-size:18px;\">nose2</span>.<br><br>\n",
    "Pour commencer avec nose2, installez <span style=\" color:purple;font-size:18px;\">nose2</span> à partir de PyPI et exécutez-le sur la ligne de commande. nose2 essaiera de découvrir tous les scripts de test nommés test*.py et les cas de test héritant de <span style=\" color:purple;font-size:18px;\">unittest.TestCase</span> de votre actuel repertoire :</p><br>"
   ]
  },
  {
   "cell_type": "code",
   "execution_count": null,
   "id": "16705508",
   "metadata": {},
   "outputs": [],
   "source": [
    "#installation de nose2\n",
    "$ pip install nose2\n",
    "$ python -m nose2"
   ]
  },
  {
   "cell_type": "code",
   "execution_count": null,
   "id": "d063b0f0",
   "metadata": {},
   "outputs": [],
   "source": [
    ".F..F\n",
    "======================================================================\n",
    "FAIL: test_sum_tuple (test_sum_unittest.TestSum)\n",
    "----------------------------------------------------------------------\n",
    "Traceback (most recent call last):\n",
    "  File \"/home/hospice/Documents/python/test_sum_unittest.py\", line 10, in test_sum_tuple\n",
    "    self.assertEqual(sum((1, 2, 2)), 6, \"la somme de 1, 2, 3 devrait donner 6\")\n",
    "AssertionError: 5 != 6 : la somme de 1, 2, 3 devrait donner 6\n",
    "\n",
    "======================================================================\n",
    "FAIL: test_sum_2.test_sum_tuple\n",
    "----------------------------------------------------------------------\n",
    "Traceback (most recent call last):\n",
    "  File \"/home/hospice/Documents/python/test_sum_2.py\", line 5, in test_sum_tuple\n",
    "    assert sum((1, 2, 3)) == 7, \"la somme de 1, 2, 3 devrait donner 6\"\n",
    "AssertionError: la somme de 1, 2, 3 devrait donner 6\n",
    "\n",
    "----------------------------------------------------------------------\n",
    "Ran 5 tests in 0.002s\n",
    "\n",
    "FAILED (failures=2)\n"
   ]
  },
  {
   "cell_type": "markdown",
   "id": "a1fea835",
   "metadata": {},
   "source": [
    "<p style=\"font-size:18px;\">Vous venez d'exécuter le test que vous avez créé à test_sum_unittest.py à partir du nose2 lanceur de test. nose2 propose de nombreux indicateurs de ligne de commande pour filtrer les tests que vous exécutez. Pour plus d'informations, vous pouvez explorer <a href=\"https://docs.nose2.io/en/latest/\"> la documentation nose2 </a> </p>"
   ]
  },
  {
   "cell_type": "markdown",
   "id": "9e91e6bf",
   "metadata": {},
   "source": [
    "# <b> <span style=\" color:blue;\">c. pytest</span> </b> <br>\n",
    "\n",
    "<p style=\"font-size:18px;\">pytest prend en charge l'exécution des unittest cas de test. Le véritable avantage de pytestvient de l'écriture de pytestcas de test. pytestles cas de test sont une série de fonctions dans un fichier Python commençant par le nom test<br><br>\n",
    "pytest a d'autres fonctionnalités intéressantes :<br>\n",
    "    <ul>\n",
    "     <li style=\"font-size:18px;\">\n",
    "     Prise en charge de l' assert instruction intégrée au lieu d'utiliser des self.assert*() méthodes spéciales\n",
    "    </li><br>\n",
    "     <li style=\"font-size:18px;\">\n",
    "     Prise en charge du filtrage des cas de test\n",
    "     </li><br>\n",
    "     <li style=\"font-size:18px;\">\n",
    "     Possibilité de refaire le dernier test raté\n",
    "     </li><br>\n",
    "     <li style=\"font-size:18px;\">\n",
    "     Un écosystème de centaines de plugins pour étendre les fonctionnalités\n",
    "     </li><br>\n",
    "</ul>\n",
    "<p style=\"font-size:18px;\">L'écriture de test_sum de l'exemple de cas de test pytest ressemblerait à ceci :</p>\n",
    "</p>\n",
    "\n"
   ]
  },
  {
   "cell_type": "code",
   "execution_count": 12,
   "id": "0d4a5ef5",
   "metadata": {},
   "outputs": [],
   "source": [
    "def test_sum():\n",
    "    \n",
    "    assert sum([1, 2, 3])== 6, \"la somme de 1, 2, 3 devrait donner 6\"\n",
    "        \n",
    "def test_sum_tuple():\n",
    "    \n",
    "    assert sum((1, 2, 2)) == 6, \"la somme de 1, 2, 3 devrait donner 6\"\n",
    "            \n",
    "test_sum()\n",
    "        "
   ]
  },
  {
   "cell_type": "markdown",
   "id": "15798c1f",
   "metadata": {},
   "source": [
    "<p style=\"font-size:18px;\">Vous avez supprimé le TestCase, toute utilisation de classes et le point d'entrée de la ligne de commande.<br>\n",
    "Plus d'informations peuvent être trouvées sur le site de <a href=\"https://docs.pytest.org/en/latest/\"> documentation Pytest </a>  .</p>"
   ]
  },
  {
   "cell_type": "raw",
   "id": "4a3c52d8",
   "metadata": {},
   "source": []
  },
  {
   "cell_type": "markdown",
   "id": "3e7b8cb4",
   "metadata": {},
   "source": [
    "# <b> <span style=\" color:blue;\">V. Comment écrire des affirmations </span> </b> \n",
    "\n",
    "<p style=\"font-size:18px;\">La dernière étape de l'écriture d'un test consiste à valider la sortie par rapport à une réponse connue. C'est ce qu'on appelle une <span style=\" color:purple;font-size:18px;\">affirmation</span> . Il existe quelques bonnes pratiques générales concernant la façon d'écrire des assertions :\n",
    "<ul>\n",
    "     <li style=\"font-size:18px;\">\n",
    "     Assurez-vous que les tests sont reproductibles et exécutez votre test plusieurs fois pour vous assurer qu'il      donne le même résultat à chaque fois\n",
    "    </li><br>\n",
    "     <li style=\"font-size:18px;\">\n",
    "     Essayez d'affirmer les résultats liés à vos données d'entrée, par exemple en vérifiant que le résultat est la      somme réelle des valeurs de l' sum()exemple\n",
    "     </li>\n",
    "</ul>\n",
    "<p style=\"font-size:18px;\"> unittest est livré avec de nombreuses méthodes pour affirmer les valeurs, les types et l'existence des variables. Voici quelques-unes des méthodes les plus couramment utilisées :</p>\n",
    "</p>\n"
   ]
  },
  {
   "cell_type": "markdown",
   "id": "ff873e9e",
   "metadata": {},
   "source": [
    "<p style=\"font-size:18px;\">\n",
    "<table style = \"width:950px ; height: 100px ;\">\n",
    "    <tbody>\n",
    "    <tr style=\"nth-child(even) {background-color: #f2f2f2;}\"> \n",
    "        <th style =\" background-color: purple; color: white; \">     \n",
    "        Méthode  \n",
    "        </th> \n",
    "        <td style =\"text-align:center ;\">.assertEqual(a, b)</td>\n",
    "        <td style =\"text-align:center ;\">.assertTrue(x)</td>\n",
    "        <td style =\"text-align:center ;\">.assertFalse(x)</td>\n",
    "        <td style =\"text-align:center ;\">.assertIs(a, b)</td>\n",
    "        <td style =\"text-align:center ;\">.assertIsNone(x)</td>\n",
    "        <td style =\"text-align:center ;\">.assertIn(a, b)</td>\n",
    "        <td style =\"text-align:center ;\">.assertIsInstance(a, b)</td>\n",
    "    </tr>  \n",
    "   <tr style=\"nth-child(even) {background-color: #f2f2f2;}\"> \n",
    "        <th style =\" background-color: purple; color: white;\">     \n",
    "         Équivalent à  \n",
    "        </th>\n",
    "        <td style =\"text-align:center ;\">a == b</td>\n",
    "        <td style =\"text-align:center ;\">bool(x) is True</td>\n",
    "        <td style =\"text-align:center ;\">bool(x) is False</td>\n",
    "        <td style =\"text-align:center ;\">a is b</td>\n",
    "        <td style =\"text-align:center ;\">x is None</td>\n",
    "        <td style =\"text-align:center ;\">a in b</td>\n",
    "        <td style =\"text-align:center ;\">isinstance(a, b)</td>  \n",
    "    </tr>\n",
    "    <tbody>\n",
    "</table>\n",
    "</p>"
   ]
  },
  {
   "cell_type": "markdown",
   "id": "eae5aeda",
   "metadata": {},
   "source": [
    "# <b> <span style=\" color:blue;\">VI.CONCLUSION </span> </b> "
   ]
  },
  {
   "cell_type": "markdown",
   "id": "69f9b939",
   "metadata": {},
   "source": [
    "<p style=\"font-size:18px;\">Python a rendu les tests accessibles en intégrant les commandes et les bibliothèques dont vous avez besoin pour valider que vos applications fonctionnent comme prévu. Démarrer avec les tests en Python n'a pas besoin d'être compliqué : vous pouvez utiliser unittestet écrire de petites méthodes maintenables pour valider votre code.<br>\n",
    "Au fur et à mesure que vous en apprenez plus sur les tests et que votre application se développe, vous pouvez envisager de passer à l'un des autres frameworks de test, comme pytest, et commencer à tirer parti de fonctionnalités plus avancées.<br>\n",
    "Merci pour l'attention. J'espère que vous aurez un avenir sans bug avec l'utilisation des tests en Python</p>\n",
    "</p>"
   ]
  },
  {
   "cell_type": "code",
   "execution_count": null,
   "id": "f4c202a8",
   "metadata": {},
   "outputs": [],
   "source": []
  }
 ],
 "metadata": {
  "kernelspec": {
   "display_name": "Python 3",
   "language": "python",
   "name": "python3"
  },
  "language_info": {
   "codemirror_mode": {
    "name": "ipython",
    "version": 3
   },
   "file_extension": ".py",
   "mimetype": "text/x-python",
   "name": "python",
   "nbconvert_exporter": "python",
   "pygments_lexer": "ipython3",
   "version": "3.8.5"
  }
 },
 "nbformat": 4,
 "nbformat_minor": 5
}
